{
 "cells": [
  {
   "cell_type": "markdown",
   "metadata": {},
   "source": [
    "## The CRISP-DM Process (Cross Industry Process for Data Mining)\n",
    "1. Business Understanding\n",
    "\n",
    "2. Data Understanding\n",
    "\n",
    "3. Prepare Data\n",
    "\n",
    "4. Data Modeling\n",
    "\n",
    "5. Evaluate the Results\n",
    "\n",
    "6. Deploy"
   ]
  },
  {
   "cell_type": "markdown",
   "metadata": {},
   "source": [
    "# Gather "
   ]
  },
  {
   "cell_type": "code",
   "execution_count": 1,
   "metadata": {},
   "outputs": [],
   "source": [
    "import pandas as pd"
   ]
  },
  {
   "cell_type": "code",
   "execution_count": 2,
   "metadata": {},
   "outputs": [],
   "source": [
    "survey_results_public = pd.read_csv('datasets/stackover_anudevsurv_2021/survey_results_public.csv')\n",
    "survey_results_schema = pd.read_csv('datasets/stackover_anudevsurv_2021/survey_results_schema.csv')"
   ]
  },
  {
   "cell_type": "code",
   "execution_count": 3,
   "metadata": {},
   "outputs": [
    {
     "data": {
      "text/html": [
       "<div>\n",
       "<style scoped>\n",
       "    .dataframe tbody tr th:only-of-type {\n",
       "        vertical-align: middle;\n",
       "    }\n",
       "\n",
       "    .dataframe tbody tr th {\n",
       "        vertical-align: top;\n",
       "    }\n",
       "\n",
       "    .dataframe thead th {\n",
       "        text-align: right;\n",
       "    }\n",
       "</style>\n",
       "<table border=\"1\" class=\"dataframe\">\n",
       "  <thead>\n",
       "    <tr style=\"text-align: right;\">\n",
       "      <th></th>\n",
       "      <th>ResponseId</th>\n",
       "      <th>MainBranch</th>\n",
       "      <th>Employment</th>\n",
       "      <th>Country</th>\n",
       "      <th>US_State</th>\n",
       "      <th>UK_Country</th>\n",
       "      <th>EdLevel</th>\n",
       "      <th>Age1stCode</th>\n",
       "      <th>LearnCode</th>\n",
       "      <th>YearsCode</th>\n",
       "      <th>...</th>\n",
       "      <th>Age</th>\n",
       "      <th>Gender</th>\n",
       "      <th>Trans</th>\n",
       "      <th>Sexuality</th>\n",
       "      <th>Ethnicity</th>\n",
       "      <th>Accessibility</th>\n",
       "      <th>MentalHealth</th>\n",
       "      <th>SurveyLength</th>\n",
       "      <th>SurveyEase</th>\n",
       "      <th>ConvertedCompYearly</th>\n",
       "    </tr>\n",
       "  </thead>\n",
       "  <tbody>\n",
       "    <tr>\n",
       "      <th>0</th>\n",
       "      <td>1</td>\n",
       "      <td>I am a developer by profession</td>\n",
       "      <td>Independent contractor, freelancer, or self-em...</td>\n",
       "      <td>Slovakia</td>\n",
       "      <td>NaN</td>\n",
       "      <td>NaN</td>\n",
       "      <td>Secondary school (e.g. American high school, G...</td>\n",
       "      <td>18 - 24 years</td>\n",
       "      <td>Coding Bootcamp;Other online resources (ex: vi...</td>\n",
       "      <td>NaN</td>\n",
       "      <td>...</td>\n",
       "      <td>25-34 years old</td>\n",
       "      <td>Man</td>\n",
       "      <td>No</td>\n",
       "      <td>Straight / Heterosexual</td>\n",
       "      <td>White or of European descent</td>\n",
       "      <td>None of the above</td>\n",
       "      <td>None of the above</td>\n",
       "      <td>Appropriate in length</td>\n",
       "      <td>Easy</td>\n",
       "      <td>62268.0</td>\n",
       "    </tr>\n",
       "    <tr>\n",
       "      <th>1</th>\n",
       "      <td>2</td>\n",
       "      <td>I am a student who is learning to code</td>\n",
       "      <td>Student, full-time</td>\n",
       "      <td>Netherlands</td>\n",
       "      <td>NaN</td>\n",
       "      <td>NaN</td>\n",
       "      <td>Bachelor’s degree (B.A., B.S., B.Eng., etc.)</td>\n",
       "      <td>11 - 17 years</td>\n",
       "      <td>Other online resources (ex: videos, blogs, etc...</td>\n",
       "      <td>7</td>\n",
       "      <td>...</td>\n",
       "      <td>18-24 years old</td>\n",
       "      <td>Man</td>\n",
       "      <td>No</td>\n",
       "      <td>Straight / Heterosexual</td>\n",
       "      <td>White or of European descent</td>\n",
       "      <td>None of the above</td>\n",
       "      <td>None of the above</td>\n",
       "      <td>Appropriate in length</td>\n",
       "      <td>Easy</td>\n",
       "      <td>NaN</td>\n",
       "    </tr>\n",
       "    <tr>\n",
       "      <th>2</th>\n",
       "      <td>3</td>\n",
       "      <td>I am not primarily a developer, but I write co...</td>\n",
       "      <td>Student, full-time</td>\n",
       "      <td>Russian Federation</td>\n",
       "      <td>NaN</td>\n",
       "      <td>NaN</td>\n",
       "      <td>Bachelor’s degree (B.A., B.S., B.Eng., etc.)</td>\n",
       "      <td>11 - 17 years</td>\n",
       "      <td>Other online resources (ex: videos, blogs, etc...</td>\n",
       "      <td>NaN</td>\n",
       "      <td>...</td>\n",
       "      <td>18-24 years old</td>\n",
       "      <td>Man</td>\n",
       "      <td>No</td>\n",
       "      <td>Prefer not to say</td>\n",
       "      <td>Prefer not to say</td>\n",
       "      <td>None of the above</td>\n",
       "      <td>None of the above</td>\n",
       "      <td>Appropriate in length</td>\n",
       "      <td>Easy</td>\n",
       "      <td>NaN</td>\n",
       "    </tr>\n",
       "    <tr>\n",
       "      <th>3</th>\n",
       "      <td>4</td>\n",
       "      <td>I am a developer by profession</td>\n",
       "      <td>Employed full-time</td>\n",
       "      <td>Austria</td>\n",
       "      <td>NaN</td>\n",
       "      <td>NaN</td>\n",
       "      <td>Master’s degree (M.A., M.S., M.Eng., MBA, etc.)</td>\n",
       "      <td>11 - 17 years</td>\n",
       "      <td>NaN</td>\n",
       "      <td>NaN</td>\n",
       "      <td>...</td>\n",
       "      <td>35-44 years old</td>\n",
       "      <td>Man</td>\n",
       "      <td>No</td>\n",
       "      <td>Straight / Heterosexual</td>\n",
       "      <td>White or of European descent</td>\n",
       "      <td>I am deaf / hard of hearing</td>\n",
       "      <td>NaN</td>\n",
       "      <td>Appropriate in length</td>\n",
       "      <td>Neither easy nor difficult</td>\n",
       "      <td>NaN</td>\n",
       "    </tr>\n",
       "    <tr>\n",
       "      <th>4</th>\n",
       "      <td>5</td>\n",
       "      <td>I am a developer by profession</td>\n",
       "      <td>Independent contractor, freelancer, or self-em...</td>\n",
       "      <td>United Kingdom of Great Britain and Northern I...</td>\n",
       "      <td>NaN</td>\n",
       "      <td>England</td>\n",
       "      <td>Master’s degree (M.A., M.S., M.Eng., MBA, etc.)</td>\n",
       "      <td>5 - 10 years</td>\n",
       "      <td>Friend or family member</td>\n",
       "      <td>17</td>\n",
       "      <td>...</td>\n",
       "      <td>25-34 years old</td>\n",
       "      <td>Man</td>\n",
       "      <td>No</td>\n",
       "      <td>NaN</td>\n",
       "      <td>White or of European descent</td>\n",
       "      <td>None of the above</td>\n",
       "      <td>NaN</td>\n",
       "      <td>Appropriate in length</td>\n",
       "      <td>Easy</td>\n",
       "      <td>NaN</td>\n",
       "    </tr>\n",
       "  </tbody>\n",
       "</table>\n",
       "<p>5 rows × 48 columns</p>\n",
       "</div>"
      ],
      "text/plain": [
       "   ResponseId                                         MainBranch  \\\n",
       "0           1                     I am a developer by profession   \n",
       "1           2             I am a student who is learning to code   \n",
       "2           3  I am not primarily a developer, but I write co...   \n",
       "3           4                     I am a developer by profession   \n",
       "4           5                     I am a developer by profession   \n",
       "\n",
       "                                          Employment  \\\n",
       "0  Independent contractor, freelancer, or self-em...   \n",
       "1                                 Student, full-time   \n",
       "2                                 Student, full-time   \n",
       "3                                 Employed full-time   \n",
       "4  Independent contractor, freelancer, or self-em...   \n",
       "\n",
       "                                             Country US_State UK_Country  \\\n",
       "0                                           Slovakia      NaN        NaN   \n",
       "1                                        Netherlands      NaN        NaN   \n",
       "2                                 Russian Federation      NaN        NaN   \n",
       "3                                            Austria      NaN        NaN   \n",
       "4  United Kingdom of Great Britain and Northern I...      NaN    England   \n",
       "\n",
       "                                             EdLevel     Age1stCode  \\\n",
       "0  Secondary school (e.g. American high school, G...  18 - 24 years   \n",
       "1       Bachelor’s degree (B.A., B.S., B.Eng., etc.)  11 - 17 years   \n",
       "2       Bachelor’s degree (B.A., B.S., B.Eng., etc.)  11 - 17 years   \n",
       "3    Master’s degree (M.A., M.S., M.Eng., MBA, etc.)  11 - 17 years   \n",
       "4    Master’s degree (M.A., M.S., M.Eng., MBA, etc.)   5 - 10 years   \n",
       "\n",
       "                                           LearnCode YearsCode  ...  \\\n",
       "0  Coding Bootcamp;Other online resources (ex: vi...       NaN  ...   \n",
       "1  Other online resources (ex: videos, blogs, etc...         7  ...   \n",
       "2  Other online resources (ex: videos, blogs, etc...       NaN  ...   \n",
       "3                                                NaN       NaN  ...   \n",
       "4                            Friend or family member        17  ...   \n",
       "\n",
       "               Age Gender Trans                Sexuality  \\\n",
       "0  25-34 years old    Man    No  Straight / Heterosexual   \n",
       "1  18-24 years old    Man    No  Straight / Heterosexual   \n",
       "2  18-24 years old    Man    No        Prefer not to say   \n",
       "3  35-44 years old    Man    No  Straight / Heterosexual   \n",
       "4  25-34 years old    Man    No                      NaN   \n",
       "\n",
       "                      Ethnicity                Accessibility  \\\n",
       "0  White or of European descent            None of the above   \n",
       "1  White or of European descent            None of the above   \n",
       "2             Prefer not to say            None of the above   \n",
       "3  White or of European descent  I am deaf / hard of hearing   \n",
       "4  White or of European descent            None of the above   \n",
       "\n",
       "        MentalHealth           SurveyLength                  SurveyEase  \\\n",
       "0  None of the above  Appropriate in length                        Easy   \n",
       "1  None of the above  Appropriate in length                        Easy   \n",
       "2  None of the above  Appropriate in length                        Easy   \n",
       "3                NaN  Appropriate in length  Neither easy nor difficult   \n",
       "4                NaN  Appropriate in length                        Easy   \n",
       "\n",
       "  ConvertedCompYearly  \n",
       "0             62268.0  \n",
       "1                 NaN  \n",
       "2                 NaN  \n",
       "3                 NaN  \n",
       "4                 NaN  \n",
       "\n",
       "[5 rows x 48 columns]"
      ]
     },
     "execution_count": 3,
     "metadata": {},
     "output_type": "execute_result"
    }
   ],
   "source": [
    "survey_results_public.head()"
   ]
  },
  {
   "cell_type": "code",
   "execution_count": 4,
   "metadata": {},
   "outputs": [
    {
     "data": {
      "text/html": [
       "<div>\n",
       "<style scoped>\n",
       "    .dataframe tbody tr th:only-of-type {\n",
       "        vertical-align: middle;\n",
       "    }\n",
       "\n",
       "    .dataframe tbody tr th {\n",
       "        vertical-align: top;\n",
       "    }\n",
       "\n",
       "    .dataframe thead th {\n",
       "        text-align: right;\n",
       "    }\n",
       "</style>\n",
       "<table border=\"1\" class=\"dataframe\">\n",
       "  <thead>\n",
       "    <tr style=\"text-align: right;\">\n",
       "      <th></th>\n",
       "      <th>qid</th>\n",
       "      <th>qname</th>\n",
       "      <th>question</th>\n",
       "      <th>force_resp</th>\n",
       "      <th>type</th>\n",
       "      <th>selector</th>\n",
       "    </tr>\n",
       "  </thead>\n",
       "  <tbody>\n",
       "    <tr>\n",
       "      <th>0</th>\n",
       "      <td>QID16</td>\n",
       "      <td>S0</td>\n",
       "      <td>&lt;div&gt;&lt;span style=\"font-size:19px;\"&gt;&lt;strong&gt;Hel...</td>\n",
       "      <td>False</td>\n",
       "      <td>DB</td>\n",
       "      <td>TB</td>\n",
       "    </tr>\n",
       "    <tr>\n",
       "      <th>1</th>\n",
       "      <td>QID12</td>\n",
       "      <td>MetaInfo</td>\n",
       "      <td>Browser Meta Info</td>\n",
       "      <td>False</td>\n",
       "      <td>Meta</td>\n",
       "      <td>Browser</td>\n",
       "    </tr>\n",
       "    <tr>\n",
       "      <th>2</th>\n",
       "      <td>QID1</td>\n",
       "      <td>S1</td>\n",
       "      <td>&lt;span style=\"font-size:22px; font-family: aria...</td>\n",
       "      <td>False</td>\n",
       "      <td>DB</td>\n",
       "      <td>TB</td>\n",
       "    </tr>\n",
       "    <tr>\n",
       "      <th>3</th>\n",
       "      <td>QID2</td>\n",
       "      <td>MainBranch</td>\n",
       "      <td>Which of the following options best describes ...</td>\n",
       "      <td>True</td>\n",
       "      <td>MC</td>\n",
       "      <td>SAVR</td>\n",
       "    </tr>\n",
       "    <tr>\n",
       "      <th>4</th>\n",
       "      <td>QID24</td>\n",
       "      <td>Employment</td>\n",
       "      <td>Which of the following best describes your cur...</td>\n",
       "      <td>False</td>\n",
       "      <td>MC</td>\n",
       "      <td>MAVR</td>\n",
       "    </tr>\n",
       "  </tbody>\n",
       "</table>\n",
       "</div>"
      ],
      "text/plain": [
       "     qid       qname                                           question  \\\n",
       "0  QID16          S0  <div><span style=\"font-size:19px;\"><strong>Hel...   \n",
       "1  QID12    MetaInfo                                  Browser Meta Info   \n",
       "2   QID1          S1  <span style=\"font-size:22px; font-family: aria...   \n",
       "3   QID2  MainBranch  Which of the following options best describes ...   \n",
       "4  QID24  Employment  Which of the following best describes your cur...   \n",
       "\n",
       "   force_resp  type selector  \n",
       "0       False    DB       TB  \n",
       "1       False  Meta  Browser  \n",
       "2       False    DB       TB  \n",
       "3        True    MC     SAVR  \n",
       "4       False    MC     MAVR  "
      ]
     },
     "execution_count": 4,
     "metadata": {},
     "output_type": "execute_result"
    }
   ],
   "source": [
    "survey_results_schema.head()"
   ]
  },
  {
   "cell_type": "markdown",
   "metadata": {},
   "source": [
    "# 1. Business Understanding\n",
    "this means understanding the problem and questions you are interested in tackling in the context of whatever domain you're working in. Examples include\n",
    "\n",
    "How do we acquire new customers?\n",
    "Does a new treatment perform better than an existing treatment?\n",
    "How can improve communication?\n",
    "How can we improve travel?\n",
    "How can we better retain information?"
   ]
  },
  {
   "cell_type": "code",
   "execution_count": 5,
   "metadata": {},
   "outputs": [],
   "source": [
    "import re\n",
    "CLEANR = re.compile('<.*?>') \n",
    "\n",
    "def cleanhtml(raw_html):\n",
    "  cleantext = re.sub(CLEANR, '', raw_html)\n",
    "  return cleantext\n",
    "\n",
    "questions = survey_results_schema['question'][3:48].reset_index(drop=True)"
   ]
  },
  {
   "cell_type": "code",
   "execution_count": 6,
   "metadata": {},
   "outputs": [
    {
     "data": {
      "text/plain": [
       "{0: 'Which of the following options best describes you today? Here, by \"developer\" we mean \"someone who writes code.\" *',\n",
       " 1: 'Which of the following best describes your current employment status?',\n",
       " 2: 'Where do you live? *',\n",
       " 3: 'In which state or territory of the USA do you live? This information will be kept private.',\n",
       " 4: 'In which part of the United Kingdom do you live? This information will be kept private.',\n",
       " 5: 'Which of the following best describes the highest level of formal education that you’ve completed? *',\n",
       " 6: 'At what age did you write your first line of code or program? (e.g., webpage, Hello World, Scratch project) ',\n",
       " 7: 'How did you learn to code? Select all that apply.',\n",
       " 8: 'Including any education, how many years have you been coding in total?',\n",
       " 9: 'NOT including education, how many years have you coded professionally (as a part of your work)?',\n",
       " 10: 'Which of the following describes your current job? Please select all that apply.',\n",
       " 11: 'Approximately how many people are employed by the company or organization you currently work for? ',\n",
       " 12: \"Which currency do you use day-to-day? If your answer is complicated, please pick the one you're most comfortable estimating in. *\",\n",
       " 13: 'What is your current total compensation (salary, bonuses, and perks, before taxes and deductions), in ${q://QID50/ChoiceGroup/SelectedChoicesTextEntry}? Please enter a whole number in the box below, without any punctuation. If you are paid hourly, please estimate an equivalent weekly, monthly, or yearly salary. If you prefer not to answer, please leave the box empty.',\n",
       " 14: 'Is that compensation weekly, monthly, or yearly?',\n",
       " 15: 'Which programming, scripting, and markup languages have you done extensive development work in over the past year, and which do you want to work in over the next year? (If you both worked with the language and want to continue to do so, please check both boxes in that row.)',\n",
       " 16: 'Which database environments have you done extensive development work in over the past year, and which do you want to work in over the next year? (If you both worked with the database and want to continue to do so, please check both boxes in that row.)',\n",
       " 17: 'Which cloud platforms have you done extensive development work in over the past year, and which do you want to work in over the next year? (If you both worked with the platform and want to continue to do so, please check both boxes in that row.)',\n",
       " 18: 'Which web frameworks and libraries have you done extensive development work in over the past year, and which do you want to work in over the next year? (If you both worked with the framework and want to continue to do so, please check both boxes in that row.)',\n",
       " 19: 'Which other frameworks and libraries have you done extensive development work in over the past year, and which do you want to work in over the next year? (If you both worked with the framework and want to continue to do so, please check both boxes in that row.)',\n",
       " 20: 'Which tools have you done extensive development work in over the past year, and which do you want to work in over the next year? (If you both worked with the technology and want to continue to do so, please check both boxes in that row.)',\n",
       " 21: 'Which development environments did you use regularly over the past year, and which do you want to work with over the next year? Please check all that apply.',\n",
       " 22: 'What is the primary operating system in which you work? *',\n",
       " 23: 'What do you do when you get stuck on a problem? Select all that apply.',\n",
       " 24: 'Which of the following Stack Overflow sites have you visited? Select all that apply.',\n",
       " 25: 'How frequently would you say you visit Stack Overflow?',\n",
       " 26: 'Do you have a Stack Overflow account?',\n",
       " 27: 'How frequently would you say you participate in Q&amp;A on Stack Overflow? By participate we mean ask, answer, vote for, or comment on questions.',\n",
       " 28: 'Do you consider yourself a member of the Stack Overflow community?',\n",
       " 29: 'Are you a member of any other online developer communities?',\n",
       " 30: 'Please name up to 5 other online developer communities you belong to, and indicate whether they are public (anyone can join) or private (invitation required).',\n",
       " 31: 'What is your age?',\n",
       " 32: 'Which of the following describe you, if any? Please check all that apply.',\n",
       " 33: 'Do you identify as transgender?',\n",
       " 34: 'Which of the following describe you, if any? Please check all that apply.',\n",
       " 35: 'Which of the following describe you, if any? Please check all that apply.',\n",
       " 36: 'Which of the following describe you, if any? Please check all that apply. ',\n",
       " 37: 'Which of the following describe you, if any? Please check all that apply. ',\n",
       " 38: 'How do you feel about the length of the survey this year?',\n",
       " 39: 'How easy or difficult was this survey to complete?'}"
      ]
     },
     "execution_count": 6,
     "metadata": {},
     "output_type": "execute_result"
    }
   ],
   "source": [
    "dict_quest = {}\n",
    "k = 0\n",
    "for q in questions: \n",
    "    if q[0:5] != '<span':\n",
    "        clean_q = cleanhtml(q)\n",
    "        dict_quest[k] = clean_q\n",
    "        k += 1\n",
    "dict_quest"
   ]
  },
  {
   "cell_type": "markdown",
   "metadata": {},
   "source": [
    "## Questions\n",
    "### 1. How to enter into the Data Science field in Japan?\n",
    "### 2. How to enter into the Data Science field in Colombia?\n",
    "### 3. What is most correlated to Salary in Japan?\n",
    "### 4. What is most correlated to Salary in Colombia?\n",
    "### 5. How does salary compare in Colombia and Japan?\n",
    "### 6. as an entry data scientist is it easier to land a job at a small or big company? or what size if it matters at all?"
   ]
  },
  {
   "cell_type": "code",
   "execution_count": 7,
   "metadata": {},
   "outputs": [],
   "source": [
    "survey_results = survey_results_public.copy()"
   ]
  },
  {
   "cell_type": "code",
   "execution_count": 8,
   "metadata": {},
   "outputs": [
    {
     "data": {
      "text/plain": [
       "Index(['ResponseId', 'MainBranch', 'Employment', 'Country', 'US_State',\n",
       "       'UK_Country', 'EdLevel', 'Age1stCode', 'LearnCode', 'YearsCode',\n",
       "       'YearsCodePro', 'DevType', 'OrgSize', 'Currency', 'CompTotal',\n",
       "       'CompFreq', 'LanguageHaveWorkedWith', 'LanguageWantToWorkWith',\n",
       "       'DatabaseHaveWorkedWith', 'DatabaseWantToWorkWith',\n",
       "       'PlatformHaveWorkedWith', 'PlatformWantToWorkWith',\n",
       "       'WebframeHaveWorkedWith', 'WebframeWantToWorkWith',\n",
       "       'MiscTechHaveWorkedWith', 'MiscTechWantToWorkWith',\n",
       "       'ToolsTechHaveWorkedWith', 'ToolsTechWantToWorkWith',\n",
       "       'NEWCollabToolsHaveWorkedWith', 'NEWCollabToolsWantToWorkWith', 'OpSys',\n",
       "       'NEWStuck', 'NEWSOSites', 'SOVisitFreq', 'SOAccount', 'SOPartFreq',\n",
       "       'SOComm', 'NEWOtherComms', 'Age', 'Gender', 'Trans', 'Sexuality',\n",
       "       'Ethnicity', 'Accessibility', 'MentalHealth', 'SurveyLength',\n",
       "       'SurveyEase', 'ConvertedCompYearly'],\n",
       "      dtype='object')"
      ]
     },
     "execution_count": 8,
     "metadata": {},
     "output_type": "execute_result"
    }
   ],
   "source": [
    "survey_results.columns"
   ]
  },
  {
   "cell_type": "code",
   "execution_count": 9,
   "metadata": {},
   "outputs": [],
   "source": [
    "%matplotlib inline\n",
    "import matplotlib.pyplot as plt"
   ]
  },
  {
   "cell_type": "code",
   "execution_count": 39,
   "metadata": {},
   "outputs": [
    {
     "data": {
      "text/plain": [
       "0          4800\n",
       "1         42000\n",
       "2         43000\n",
       "3         71500\n",
       "4          9000\n",
       "          ...  \n",
       "47178    160500\n",
       "47179    200000\n",
       "47180      1800\n",
       "47181     90000\n",
       "47182      7700\n",
       "Name: CompTotal, Length: 47183, dtype: int32"
      ]
     },
     "execution_count": 39,
     "metadata": {},
     "output_type": "execute_result"
    }
   ],
   "source": [
    "survey_results['CompTotal'].dropna().reset_index(drop=True).astype(int)"
   ]
  },
  {
   "cell_type": "code",
   "execution_count": 24,
   "metadata": {},
   "outputs": [
    {
     "data": {
      "text/plain": [
       "numpy.ndarray"
      ]
     },
     "execution_count": 24,
     "metadata": {},
     "output_type": "execute_result"
    }
   ],
   "source": [
    "comp_val = survey_results['CompTotal'].dropna().values\n",
    "type(comp_val)"
   ]
  },
  {
   "cell_type": "code",
   "execution_count": 31,
   "metadata": {},
   "outputs": [
    {
     "data": {
      "text/plain": [
       "(array([4.7182e+04, 0.0000e+00, 0.0000e+00, 0.0000e+00, 0.0000e+00,\n",
       "        0.0000e+00, 0.0000e+00, 0.0000e+00, 0.0000e+00, 1.0000e+00]),\n",
       " array([0.e+00, 1.e+73, 2.e+73, 3.e+73, 4.e+73, 5.e+73, 6.e+73, 7.e+73,\n",
       "        8.e+73, 9.e+73, 1.e+74]),\n",
       " <BarContainer object of 10 artists>)"
      ]
     },
     "execution_count": 31,
     "metadata": {},
     "output_type": "execute_result"
    },
    {
     "data": {
      "image/png": "[encoded data removed]",
      "text/plain": [
       "<Figure size 432x288 with 1 Axes>"
      ]
     },
     "metadata": {
      "needs_background": "light"
     },
     "output_type": "display_data"
    }
   ],
   "source": [
    "plt.hist(comp_val)"
   ]
  },
  {
   "cell_type": "code",
   "execution_count": 13,
   "metadata": {},
   "outputs": [
    {
     "data": {
      "text/plain": [
       "count    4.718300e+04\n",
       "mean     2.119407e+69\n",
       "std      4.603702e+71\n",
       "min      0.000000e+00\n",
       "25%      1.600000e+04\n",
       "50%      6.700000e+04\n",
       "75%      1.400000e+05\n",
       "max      1.000000e+74\n",
       "Name: CompTotal, dtype: float64"
      ]
     },
     "execution_count": 13,
     "metadata": {},
     "output_type": "execute_result"
    }
   ],
   "source": [
    "survey_results['CompTotal'].dropna().describe()"
   ]
  },
  {
   "cell_type": "code",
   "execution_count": 17,
   "metadata": {},
   "outputs": [
    {
     "data": {
      "image/png": "[encoded data removed]",
      "text/plain": [
       "<Figure size 432x288 with 1 Axes>"
      ]
     },
     "metadata": {
      "needs_background": "light"
     },
     "output_type": "display_data"
    }
   ],
   "source": [
    "survey_results['CompTotal'].dropna().astype(int).hist()\n",
    "plt.show()"
   ]
  },
  {
   "cell_type": "code",
   "execution_count": 10,
   "metadata": {},
   "outputs": [],
   "source": [
    "freq_yr = survey_results[\"CompFreq\"] == \"Yearly\"\n",
    "freq_wk = survey_results[\"CompFreq\"] == \"Weekly\""
   ]
  },
  {
   "cell_type": "code",
   "execution_count": 11,
   "metadata": {},
   "outputs": [],
   "source": [
    "survey_results.loc[freq_yr, 'CompTotal'] /= 12.0\n",
    "survey_results.loc[freq_yr, 'CompFreq'] = 'Monthly'\n",
    "survey_results.loc[freq_wk, 'CompTotal'] *= 4.0\n",
    "survey_results.loc[freq_wk, 'CompFreq'] = 'Monthly'"
   ]
  },
  {
   "cell_type": "code",
   "execution_count": 12,
   "metadata": {},
   "outputs": [
    {
     "data": {
      "text/plain": [
       "<AxesSubplot:>"
      ]
     },
     "execution_count": 12,
     "metadata": {},
     "output_type": "execute_result"
    },
    {
     "data": {
      "image/png": "[encoded data removed]",
      "text/plain": [
       "<Figure size 432x288 with 1 Axes>"
      ]
     },
     "metadata": {
      "needs_background": "light"
     },
     "output_type": "display_data"
    }
   ],
   "source": [
    "survey_results['CompTotal'].dropna().astype(int).hist()\n",
    "# survey_results['CompTotal'].astype(int)"
   ]
  },
  {
   "cell_type": "code",
   "execution_count": 13,
   "metadata": {},
   "outputs": [],
   "source": [
    "japan_respondents = survey_results.loc[survey_results['Country'] == 'Japan']\n",
    "colombian_respondents = survey_results.loc[survey_results['Country'] == 'Colombia']"
   ]
  },
  {
   "cell_type": "code",
   "execution_count": 14,
   "metadata": {},
   "outputs": [
    {
     "data": {
      "text/plain": [
       "count    2.750000e+02\n",
       "mean     9.211531e+05\n",
       "std      1.975838e+06\n",
       "min      3.750000e+01\n",
       "25%      3.000000e+05\n",
       "50%      5.000000e+05\n",
       "75%      7.958333e+05\n",
       "max      2.400000e+07\n",
       "Name: CompTotal, dtype: float64"
      ]
     },
     "execution_count": 14,
     "metadata": {},
     "output_type": "execute_result"
    }
   ],
   "source": [
    "japan_respondents['CompTotal'].describe()"
   ]
  },
  {
   "cell_type": "code",
   "execution_count": 15,
   "metadata": {},
   "outputs": [
    {
     "data": {
      "text/plain": [
       "count    2.800000e+02\n",
       "mean     5.880145e+06\n",
       "std      5.277689e+06\n",
       "min      3.000000e+01\n",
       "25%      2.000000e+06\n",
       "50%      4.500000e+06\n",
       "75%      8.000000e+06\n",
       "max      3.200000e+07\n",
       "Name: CompTotal, dtype: float64"
      ]
     },
     "execution_count": 15,
     "metadata": {},
     "output_type": "execute_result"
    }
   ],
   "source": [
    "colombian_respondents['CompTotal'].describe()"
   ]
  },
  {
   "cell_type": "markdown",
   "metadata": {},
   "source": [
    "# Next"
   ]
  },
  {
   "cell_type": "markdown",
   "metadata": {},
   "source": [
    "#### Filtering people who is already employed"
   ]
  },
  {
   "cell_type": "code",
   "execution_count": 41,
   "metadata": {},
   "outputs": [
    {
     "data": {
      "text/plain": [
       "Employed full-time                                      53584\n",
       "Student, full-time                                      11781\n",
       "Independent contractor, freelancer, or self-employed     8041\n",
       "Not employed, but looking for work                       2961\n",
       "Employed part-time                                       2461\n",
       "Student, part-time                                       2051\n",
       "Not employed, and not looking for work                   1228\n",
       "I prefer not to say                                       890\n",
       "Retired                                                   326\n",
       "Name: Employment, dtype: int64"
      ]
     },
     "execution_count": 41,
     "metadata": {},
     "output_type": "execute_result"
    }
   ],
   "source": [
    "survey_results_public['Employment'].value_counts()"
   ]
  },
  {
   "cell_type": "code",
   "execution_count": 42,
   "metadata": {},
   "outputs": [
    {
     "data": {
      "text/plain": [
       "0        False\n",
       "1        False\n",
       "2        False\n",
       "3         True\n",
       "4        False\n",
       "         ...  \n",
       "83434     True\n",
       "83435    False\n",
       "83436     True\n",
       "83437     True\n",
       "83438     True\n",
       "Name: Employment, Length: 83439, dtype: bool"
      ]
     },
     "execution_count": 42,
     "metadata": {},
     "output_type": "execute_result"
    }
   ],
   "source": [
    "survey_results_public['Employment'] == 'Employed full-time'"
   ]
  },
  {
   "cell_type": "code",
   "execution_count": 49,
   "metadata": {},
   "outputs": [
    {
     "data": {
      "text/plain": [
       "0        False\n",
       "1        False\n",
       "2        False\n",
       "3        False\n",
       "4        False\n",
       "         ...  \n",
       "83434    False\n",
       "83435    False\n",
       "83436    False\n",
       "83437    False\n",
       "83438    False\n",
       "Name: Employment, Length: 83439, dtype: bool"
      ]
     },
     "execution_count": 49,
     "metadata": {},
     "output_type": "execute_result"
    }
   ],
   "source": [
    "survey_results_public['Employment'] == 'Employed part-time' "
   ]
  },
  {
   "cell_type": "code",
   "execution_count": 47,
   "metadata": {},
   "outputs": [
    {
     "data": {
      "text/plain": [
       "0        False\n",
       "1        False\n",
       "2        False\n",
       "3        False\n",
       "4        False\n",
       "         ...  \n",
       "83434    False\n",
       "83435    False\n",
       "83436    False\n",
       "83437    False\n",
       "83438    False\n",
       "Name: Country, Length: 83439, dtype: bool"
      ]
     },
     "execution_count": 47,
     "metadata": {},
     "output_type": "execute_result"
    }
   ],
   "source": [
    "survey_results_public['Country'] == 'Japan'"
   ]
  },
  {
   "cell_type": "code",
   "execution_count": 56,
   "metadata": {},
   "outputs": [],
   "source": [
    "jp_em = survey_results_public.loc[(survey_results_public['Country'] == 'Japan') & ((survey_results_public['Employment'] == 'Employed full-time') | (survey_results_public['Employment'] == 'Employed part-time' ))]"
   ]
  },
  {
   "cell_type": "markdown",
   "metadata": {},
   "source": [
    "# Assess"
   ]
  },
  {
   "cell_type": "markdown",
   "metadata": {},
   "source": [
    "# Clean"
   ]
  },
  {
   "cell_type": "markdown",
   "metadata": {},
   "source": [
    "# Analyze"
   ]
  },
  {
   "cell_type": "markdown",
   "metadata": {},
   "source": [
    "# Model"
   ]
  },
  {
   "cell_type": "markdown",
   "metadata": {},
   "source": [
    "# Visualize"
   ]
  }
 ],
 "metadata": {
  "kernelspec": {
   "display_name": "Python 3",
   "language": "python",
   "name": "python3"
  },
  "language_info": {
   "codemirror_mode": {
    "name": "ipython",
    "version": 3
   },
   "file_extension": ".py",
   "mimetype": "text/x-python",
   "name": "python",
   "nbconvert_exporter": "python",
   "pygments_lexer": "ipython3",
   "version": "3.8.10"
  }
 },
 "nbformat": 4,
 "nbformat_minor": 2
}
